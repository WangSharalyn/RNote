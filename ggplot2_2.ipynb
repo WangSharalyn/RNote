{
 "cells": [
  {
   "cell_type": "markdown",
   "metadata": {},
   "source": [
    "[ggplot2包介绍学习](https://www.cnblogs.com/nxld/p/6059603.html) \n",
    "\n",
    "[ggplot2_wiki](http://www.sthda.com/english/wiki/ggplot2-essentials)"
   ]
  }
 ],
 "metadata": {
  "kernelspec": {
   "display_name": "R",
   "language": "R",
   "name": "ir"
  },
  "language_info": {
   "codemirror_mode": "r",
   "file_extension": ".r",
   "mimetype": "text/x-r-source",
   "name": "R",
   "pygments_lexer": "r",
   "version": "3.6.1"
  }
 },
 "nbformat": 4,
 "nbformat_minor": 2
}
